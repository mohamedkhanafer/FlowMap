{
 "cells": [
  {
   "cell_type": "code",
   "execution_count": 2,
   "metadata": {},
   "outputs": [],
   "source": [
    "# Importing the libraries\n",
    "import pandas as pd\n",
    "import numpy as np\n",
    "\n",
    "# Loading June 2016 trips\n",
    "june16 = pd.read_csv(\"data_trips/OD_2016-06.csv\")\n",
    "\n",
    "# Grouping by Start Station and End Station and getting the number of times the trip is repeated\n",
    "june16=june16.groupby(['start_station_code', 'end_station_code']).size()\n",
    "\n",
    "# Exporting the data to be used in Google Sheets for the flows\n",
    "june16.to_csv(r'flows_google_sheet_2016.csv', index = True)\n",
    "\n",
    "# Loading June 2017 trips\n",
    "june17 = pd.read_csv(\"data_trips/OD_2017-06.csv\")\n",
    "\n",
    "# Grouping by Start Station and End Station and getting the number of times the trip is repeated\n",
    "june17=june17.groupby(['start_station_code', 'end_station_code']).size()\n",
    "\n",
    "# Exporting the data to be used in Google Sheets for the flows\n",
    "june17.to_csv(r'flows_google_sheet_2017.csv', index = True)\n",
    "\n",
    "# Loading June 2018 trips\n",
    "june18 = pd.read_csv(\"data_trips/OD_2018-06.csv\")\n",
    "\n",
    "# Grouping by Start Station and End Station and getting the number of times the trip is repeated\n",
    "june18=june18.groupby(['start_station_code', 'end_station_code']).size()\n",
    "\n",
    "# Exporting the data to be used in Google Sheets for the flows\n",
    "june18.to_csv(r'flows_google_sheet_2018.csv', index = True)\n",
    "\n",
    "# Loading June 2019 trips\n",
    "june19 = pd.read_csv(\"data_trips/OD_2019-06.csv\")\n",
    "\n",
    "# Grouping by Start Station and End Station and getting the number of times the trip is repeated\n",
    "june19=june19.groupby(['start_station_code', 'end_station_code']).size()\n",
    "\n",
    "# Exporting the data to be used in Google Sheets for the flows\n",
    "june19.to_csv(r'flows_google_sheet_2019.csv', index = True)\n",
    "\n"
   ]
  }
 ],
 "metadata": {
  "kernelspec": {
   "display_name": "Python 3",
   "language": "python",
   "name": "python3"
  },
  "language_info": {
   "codemirror_mode": {
    "name": "ipython",
    "version": 3
   },
   "file_extension": ".py",
   "mimetype": "text/x-python",
   "name": "python",
   "nbconvert_exporter": "python",
   "pygments_lexer": "ipython3",
   "version": "3.7.3"
  }
 },
 "nbformat": 4,
 "nbformat_minor": 2
}
