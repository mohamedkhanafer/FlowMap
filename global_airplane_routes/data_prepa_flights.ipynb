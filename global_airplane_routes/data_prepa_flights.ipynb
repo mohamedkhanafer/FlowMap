{
 "cells": [
  {
   "cell_type": "code",
   "execution_count": 1,
   "metadata": {},
   "outputs": [],
   "source": [
    "import pandas as pd\n",
    "import numpy as np"
   ]
  },
  {
   "cell_type": "code",
   "execution_count": 38,
   "metadata": {},
   "outputs": [
    {
     "name": "stderr",
     "output_type": "stream",
     "text": [
      "/Users/mohamedkhanafer/anaconda3/lib/python3.7/site-packages/ipykernel_launcher.py:15: FutureWarning: The signature of `Series.to_csv` was aligned to that of `DataFrame.to_csv`, and argument 'header' will change its default value from False to True: please pass an explicit value to suppress this warning.\n",
      "  from ipykernel import kernelapp as app\n"
     ]
    }
   ],
   "source": [
    "# Loading the Data\n",
    "routes= pd.read_csv(\"routes_data.csv\")\n",
    "\n",
    "# Converting the id to numeric to be able to drop the \"\\N\" values\n",
    "routes['source_airport_id'] = pd.to_numeric(routes['source_airport_id'], errors='coerce')\n",
    "routes['destination_airport_id'] = pd.to_numeric(routes['destination_airport_id'], errors='coerce')\n",
    "\n",
    "# Dropping the \"\\N\" values that have become NaN\n",
    "routes.dropna()\n",
    "\n",
    "# Grouping by Source-Destination and getting the number of flights between them\n",
    "routes=routes.groupby(['source_airport_id', 'destination_airport_id']).size()\n",
    "\n",
    "# Exporting to CSV the data that will be used in the Google Sheet Flows tab\n",
    "routes.to_csv(r'routes_for_google_sheet.csv', index = True)"
   ]
  },
  {
   "cell_type": "code",
   "execution_count": null,
   "metadata": {},
   "outputs": [],
   "source": []
  }
 ],
 "metadata": {
  "kernelspec": {
   "display_name": "Python 3",
   "language": "python",
   "name": "python3"
  },
  "language_info": {
   "codemirror_mode": {
    "name": "ipython",
    "version": 3
   },
   "file_extension": ".py",
   "mimetype": "text/x-python",
   "name": "python",
   "nbconvert_exporter": "python",
   "pygments_lexer": "ipython3",
   "version": "3.7.3"
  }
 },
 "nbformat": 4,
 "nbformat_minor": 2
}
